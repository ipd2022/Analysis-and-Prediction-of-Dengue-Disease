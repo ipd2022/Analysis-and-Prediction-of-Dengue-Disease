{
  "nbformat": 4,
  "nbformat_minor": 0,
  "metadata": {
    "colab": {
      "provenance": []
    },
    "kernelspec": {
      "name": "python3",
      "display_name": "Python 3"
    },
    "language_info": {
      "name": "python"
    }
  },
  "cells": [
    {
      "cell_type": "code",
      "source": [
        "#Dataframe Creation\n",
        "import pandas as pd\n",
        "url = 'https://raw.githubusercontent.com/ipd2022/Project/main/MumbaiMonthly.csv'\n",
        "dataset = pd.read_csv(url)\n",
        "dataset.head()"
      ],
      "metadata": {
        "colab": {
          "base_uri": "https://localhost:8080/",
          "height": 267
        },
        "id": "MVLFlksMoY88",
        "outputId": "a9343bef-3881-4c7e-b390-b50d2681a4cc"
      },
      "execution_count": null,
      "outputs": [
        {
          "output_type": "execute_result",
          "data": {
            "text/plain": [
              "   Year Location  Latitude  Longitude  Month  Temperature  Min Temp  Max Temp  \\\n",
              "0  2016   Mumbai   19.0761    72.8774      1        23.50     13.05     37.51   \n",
              "1  2016   Mumbai   19.0761    72.8774      2        25.69     15.20     38.77   \n",
              "2  2016   Mumbai   19.0761    72.8774      3        29.19     19.51     42.69   \n",
              "3  2016   Mumbai   19.0761    72.8774      4        30.54     22.00     41.65   \n",
              "4  2016   Mumbai   19.0761    72.8774      5        31.47     24.36     40.37   \n",
              "\n",
              "   Relative humidity  Specific humidity  Precipitation  Dengue Cases  \\\n",
              "0              45.50               7.57           0.01            21   \n",
              "1              50.56               9.52           0.72            23   \n",
              "2              47.94              10.80           0.10            22   \n",
              "3              53.75              13.37           0.06            21   \n",
              "4              61.38              17.03           0.30            27   \n",
              "\n",
              "   Dengue Deaths  \n",
              "0              1  \n",
              "1              0  \n",
              "2              0  \n",
              "3              0  \n",
              "4              0  "
            ],
            "text/html": [
              "\n",
              "  <div id=\"df-a114ef1c-4912-4368-a47f-46fa09a14036\">\n",
              "    <div class=\"colab-df-container\">\n",
              "      <div>\n",
              "<style scoped>\n",
              "    .dataframe tbody tr th:only-of-type {\n",
              "        vertical-align: middle;\n",
              "    }\n",
              "\n",
              "    .dataframe tbody tr th {\n",
              "        vertical-align: top;\n",
              "    }\n",
              "\n",
              "    .dataframe thead th {\n",
              "        text-align: right;\n",
              "    }\n",
              "</style>\n",
              "<table border=\"1\" class=\"dataframe\">\n",
              "  <thead>\n",
              "    <tr style=\"text-align: right;\">\n",
              "      <th></th>\n",
              "      <th>Year</th>\n",
              "      <th>Location</th>\n",
              "      <th>Latitude</th>\n",
              "      <th>Longitude</th>\n",
              "      <th>Month</th>\n",
              "      <th>Temperature</th>\n",
              "      <th>Min Temp</th>\n",
              "      <th>Max Temp</th>\n",
              "      <th>Relative humidity</th>\n",
              "      <th>Specific humidity</th>\n",
              "      <th>Precipitation</th>\n",
              "      <th>Dengue Cases</th>\n",
              "      <th>Dengue Deaths</th>\n",
              "    </tr>\n",
              "  </thead>\n",
              "  <tbody>\n",
              "    <tr>\n",
              "      <th>0</th>\n",
              "      <td>2016</td>\n",
              "      <td>Mumbai</td>\n",
              "      <td>19.0761</td>\n",
              "      <td>72.8774</td>\n",
              "      <td>1</td>\n",
              "      <td>23.50</td>\n",
              "      <td>13.05</td>\n",
              "      <td>37.51</td>\n",
              "      <td>45.50</td>\n",
              "      <td>7.57</td>\n",
              "      <td>0.01</td>\n",
              "      <td>21</td>\n",
              "      <td>1</td>\n",
              "    </tr>\n",
              "    <tr>\n",
              "      <th>1</th>\n",
              "      <td>2016</td>\n",
              "      <td>Mumbai</td>\n",
              "      <td>19.0761</td>\n",
              "      <td>72.8774</td>\n",
              "      <td>2</td>\n",
              "      <td>25.69</td>\n",
              "      <td>15.20</td>\n",
              "      <td>38.77</td>\n",
              "      <td>50.56</td>\n",
              "      <td>9.52</td>\n",
              "      <td>0.72</td>\n",
              "      <td>23</td>\n",
              "      <td>0</td>\n",
              "    </tr>\n",
              "    <tr>\n",
              "      <th>2</th>\n",
              "      <td>2016</td>\n",
              "      <td>Mumbai</td>\n",
              "      <td>19.0761</td>\n",
              "      <td>72.8774</td>\n",
              "      <td>3</td>\n",
              "      <td>29.19</td>\n",
              "      <td>19.51</td>\n",
              "      <td>42.69</td>\n",
              "      <td>47.94</td>\n",
              "      <td>10.80</td>\n",
              "      <td>0.10</td>\n",
              "      <td>22</td>\n",
              "      <td>0</td>\n",
              "    </tr>\n",
              "    <tr>\n",
              "      <th>3</th>\n",
              "      <td>2016</td>\n",
              "      <td>Mumbai</td>\n",
              "      <td>19.0761</td>\n",
              "      <td>72.8774</td>\n",
              "      <td>4</td>\n",
              "      <td>30.54</td>\n",
              "      <td>22.00</td>\n",
              "      <td>41.65</td>\n",
              "      <td>53.75</td>\n",
              "      <td>13.37</td>\n",
              "      <td>0.06</td>\n",
              "      <td>21</td>\n",
              "      <td>0</td>\n",
              "    </tr>\n",
              "    <tr>\n",
              "      <th>4</th>\n",
              "      <td>2016</td>\n",
              "      <td>Mumbai</td>\n",
              "      <td>19.0761</td>\n",
              "      <td>72.8774</td>\n",
              "      <td>5</td>\n",
              "      <td>31.47</td>\n",
              "      <td>24.36</td>\n",
              "      <td>40.37</td>\n",
              "      <td>61.38</td>\n",
              "      <td>17.03</td>\n",
              "      <td>0.30</td>\n",
              "      <td>27</td>\n",
              "      <td>0</td>\n",
              "    </tr>\n",
              "  </tbody>\n",
              "</table>\n",
              "</div>\n",
              "      <button class=\"colab-df-convert\" onclick=\"convertToInteractive('df-a114ef1c-4912-4368-a47f-46fa09a14036')\"\n",
              "              title=\"Convert this dataframe to an interactive table.\"\n",
              "              style=\"display:none;\">\n",
              "        \n",
              "  <svg xmlns=\"http://www.w3.org/2000/svg\" height=\"24px\"viewBox=\"0 0 24 24\"\n",
              "       width=\"24px\">\n",
              "    <path d=\"M0 0h24v24H0V0z\" fill=\"none\"/>\n",
              "    <path d=\"M18.56 5.44l.94 2.06.94-2.06 2.06-.94-2.06-.94-.94-2.06-.94 2.06-2.06.94zm-11 1L8.5 8.5l.94-2.06 2.06-.94-2.06-.94L8.5 2.5l-.94 2.06-2.06.94zm10 10l.94 2.06.94-2.06 2.06-.94-2.06-.94-.94-2.06-.94 2.06-2.06.94z\"/><path d=\"M17.41 7.96l-1.37-1.37c-.4-.4-.92-.59-1.43-.59-.52 0-1.04.2-1.43.59L10.3 9.45l-7.72 7.72c-.78.78-.78 2.05 0 2.83L4 21.41c.39.39.9.59 1.41.59.51 0 1.02-.2 1.41-.59l7.78-7.78 2.81-2.81c.8-.78.8-2.07 0-2.86zM5.41 20L4 18.59l7.72-7.72 1.47 1.35L5.41 20z\"/>\n",
              "  </svg>\n",
              "      </button>\n",
              "      \n",
              "  <style>\n",
              "    .colab-df-container {\n",
              "      display:flex;\n",
              "      flex-wrap:wrap;\n",
              "      gap: 12px;\n",
              "    }\n",
              "\n",
              "    .colab-df-convert {\n",
              "      background-color: #E8F0FE;\n",
              "      border: none;\n",
              "      border-radius: 50%;\n",
              "      cursor: pointer;\n",
              "      display: none;\n",
              "      fill: #1967D2;\n",
              "      height: 32px;\n",
              "      padding: 0 0 0 0;\n",
              "      width: 32px;\n",
              "    }\n",
              "\n",
              "    .colab-df-convert:hover {\n",
              "      background-color: #E2EBFA;\n",
              "      box-shadow: 0px 1px 2px rgba(60, 64, 67, 0.3), 0px 1px 3px 1px rgba(60, 64, 67, 0.15);\n",
              "      fill: #174EA6;\n",
              "    }\n",
              "\n",
              "    [theme=dark] .colab-df-convert {\n",
              "      background-color: #3B4455;\n",
              "      fill: #D2E3FC;\n",
              "    }\n",
              "\n",
              "    [theme=dark] .colab-df-convert:hover {\n",
              "      background-color: #434B5C;\n",
              "      box-shadow: 0px 1px 3px 1px rgba(0, 0, 0, 0.15);\n",
              "      filter: drop-shadow(0px 1px 2px rgba(0, 0, 0, 0.3));\n",
              "      fill: #FFFFFF;\n",
              "    }\n",
              "  </style>\n",
              "\n",
              "      <script>\n",
              "        const buttonEl =\n",
              "          document.querySelector('#df-a114ef1c-4912-4368-a47f-46fa09a14036 button.colab-df-convert');\n",
              "        buttonEl.style.display =\n",
              "          google.colab.kernel.accessAllowed ? 'block' : 'none';\n",
              "\n",
              "        async function convertToInteractive(key) {\n",
              "          const element = document.querySelector('#df-a114ef1c-4912-4368-a47f-46fa09a14036');\n",
              "          const dataTable =\n",
              "            await google.colab.kernel.invokeFunction('convertToInteractive',\n",
              "                                                     [key], {});\n",
              "          if (!dataTable) return;\n",
              "\n",
              "          const docLinkHtml = 'Like what you see? Visit the ' +\n",
              "            '<a target=\"_blank\" href=https://colab.research.google.com/notebooks/data_table.ipynb>data table notebook</a>'\n",
              "            + ' to learn more about interactive tables.';\n",
              "          element.innerHTML = '';\n",
              "          dataTable['output_type'] = 'display_data';\n",
              "          await google.colab.output.renderOutput(dataTable, element);\n",
              "          const docLink = document.createElement('div');\n",
              "          docLink.innerHTML = docLinkHtml;\n",
              "          element.appendChild(docLink);\n",
              "        }\n",
              "      </script>\n",
              "    </div>\n",
              "  </div>\n",
              "  "
            ]
          },
          "metadata": {},
          "execution_count": 3
        }
      ]
    },
    {
      "cell_type": "code",
      "source": [
        "#Splitting into Train test\n",
        "dataset.drop(dataset.columns[12], axis=1, inplace=True)\n",
        "X = dataset.iloc[0 : 72 , 5 : 11]\n",
        "y = dataset.iloc[0 : 72, -1]"
      ],
      "metadata": {
        "id": "NFwtnl0FoZzh"
      },
      "execution_count": null,
      "outputs": []
    },
    {
      "cell_type": "code",
      "source": [
        "from sklearn.svm import NuSVR\n",
        "\n",
        "model = NuSVR(kernel = \"poly\", degree = 6)\n",
        "model.fit(X, y)\n",
        "test = dataset.iloc[72 : , 5 : 11]\n",
        "print(model.predict(test))"
      ],
      "metadata": {
        "colab": {
          "base_uri": "https://localhost:8080/"
        },
        "id": "TYhfN1Ddobgi",
        "outputId": "e9cbf495-8ef2-4489-fb3b-021b9b326d03"
      },
      "execution_count": null,
      "outputs": [
        {
          "output_type": "stream",
          "name": "stdout",
          "text": [
            "[ 23.01616829  15.50413617  10.38233935  12.10442177  21.52633659\n",
            "  31.1512541   49.09580702 142.26746189 121.99769128  90.1994948\n",
            "  72.33146112  52.7931299 ]\n"
          ]
        }
      ]
    },
    {
      "cell_type": "code",
      "source": [
        "from sklearn.metrics import mean_squared_error\n",
        "\n",
        "test1 = dataset.iloc[72 : , -1]\n",
        "y_pred = model.predict(test)\n",
        "mean_squared_error(test1, y_pred)"
      ],
      "metadata": {
        "colab": {
          "base_uri": "https://localhost:8080/"
        },
        "id": "fgbCS0pWoesF",
        "outputId": "c031a007-cafd-419e-99a9-68b01b85340a"
      },
      "execution_count": null,
      "outputs": [
        {
          "output_type": "execute_result",
          "data": {
            "text/plain": [
              "2860.0561892100764"
            ]
          },
          "metadata": {},
          "execution_count": 6
        }
      ]
    },
    {
      "cell_type": "code",
      "source": [
        "#Predict 2023\n",
        "x = dataset.iloc[0 : , 5 : 11]\n",
        "Y = dataset.iloc[0 : , -1]\n",
        "\n",
        "url1 = 'https://raw.githubusercontent.com/ipd2022/Project/main/Mumbai_2023.csv'\n",
        "df = pd.read_csv(url1)\n",
        "\n",
        "model.fit(x, Y)\n",
        "X_test = df.iloc[0 : , 2 : 8]\n",
        "print(model.predict(X_test))"
      ],
      "metadata": {
        "colab": {
          "base_uri": "https://localhost:8080/"
        },
        "id": "i6t2zptPEfdF",
        "outputId": "4c1c1ea5-c1d8-4e8c-cc39-473b291a29c8"
      },
      "execution_count": null,
      "outputs": [
        {
          "output_type": "stream",
          "name": "stdout",
          "text": [
            "[ 25.06678664  16.10926773   8.55381526  14.334009    24.57525674\n",
            "  43.90527725  41.16879988 109.92926095 136.54068934 113.74559527\n",
            "  70.81960341  48.58692674]\n"
          ]
        }
      ]
    },
    {
      "cell_type": "code",
      "source": [
        "import matplotlib.pyplot as plt\n",
        "\n",
        "x1 = df.iloc[0 : , 2]\n",
        "y = model.predict(X_test)\n",
        "plt.scatter(x1, y)\n",
        "plt.xlabel(\"Temperature\")\n",
        "plt.ylabel(\"Dengue Cases\")\n",
        "plt.show()"
      ],
      "metadata": {
        "colab": {
          "base_uri": "https://localhost:8080/",
          "height": 449
        },
        "id": "X9ymjeOVCnHj",
        "outputId": "883f0c97-fca9-4971-dc33-45c001572e68"
      },
      "execution_count": null,
      "outputs": [
        {
          "output_type": "display_data",
          "data": {
            "text/plain": [
              "<Figure size 640x480 with 1 Axes>"
            ],
            "image/png": "[encoded data removed]"
          },
          "metadata": {}
        }
      ]
    },
    {
      "cell_type": "code",
      "source": [
        "x2 = df.iloc[0 : , 1]\n",
        "y = model.predict(X_test)\n",
        "plt.scatter(x2, y)\n",
        "plt.xlabel(\"Month\")\n",
        "plt.ylabel(\"Dengue Cases\")\n",
        "plt.show()"
      ],
      "metadata": {
        "id": "MCsj5wZVD8Xv",
        "outputId": "0af25066-7058-45d6-9846-8a01404bc6ad",
        "colab": {
          "base_uri": "https://localhost:8080/",
          "height": 449
        }
      },
      "execution_count": null,
      "outputs": [
        {
          "output_type": "display_data",
          "data": {
            "text/plain": [
              "<Figure size 640x480 with 1 Axes>"
            ],
            "image/png": "[encoded data removed]"
          },
          "metadata": {}
        }
      ]
    }
  ]
}