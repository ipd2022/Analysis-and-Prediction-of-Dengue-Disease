{
  "nbformat": 4,
  "nbformat_minor": 0,
  "metadata": {
    "colab": {
      "provenance": [],
      "authorship_tag": "ABX9TyO/hF512Nzm+/WoDdZuL9E1",
      "include_colab_link": true
    },
    "kernelspec": {
      "name": "python3",
      "display_name": "Python 3"
    },
    "language_info": {
      "name": "python"
    }
  },
  "cells": [
    {
      "cell_type": "markdown",
      "metadata": {
        "id": "view-in-github",
        "colab_type": "text"
      },
      "source": [
        "<a href=\"https://colab.research.google.com/github/ipd2022/Analysis-and-Prediction-of-Dengue-Disease/blob/main/models/SVR.ipynb\" target=\"_parent\"><img src=\"https://colab.research.google.com/assets/colab-badge.svg\" alt=\"Open In Colab\"/></a>"
      ]
    },
    {
      "cell_type": "code",
      "execution_count": null,
      "metadata": {
        "id": "YjpCiq6EVkR3",
        "colab": {
          "base_uri": "https://localhost:8080/",
          "height": 267
        },
        "outputId": "61683d85-4038-452d-feca-79fc64a7a42e"
      },
      "outputs": [
        {
          "output_type": "execute_result",
          "data": {
            "text/plain": [
              "   Year Location  Latitude  Longitude  Month  Temperature  Min Temp  Max Temp  \\\n",
              "0  2016   Mumbai   19.0761    72.8774      1        23.50     13.05     37.51   \n",
              "1  2016   Mumbai   19.0761    72.8774      2        25.69     15.20     38.77   \n",
              "2  2016   Mumbai   19.0761    72.8774      3        29.19     19.51     42.69   \n",
              "3  2016   Mumbai   19.0761    72.8774      4        30.54     22.00     41.65   \n",
              "4  2016   Mumbai   19.0761    72.8774      5        31.47     24.36     40.37   \n",
              "\n",
              "   Relative humidity  Specific humidity  Precipitation  Dengue Cases  \\\n",
              "0              45.50               7.57           0.01            21   \n",
              "1              50.56               9.52           0.72            23   \n",
              "2              47.94              10.80           0.10            22   \n",
              "3              53.75              13.37           0.06            21   \n",
              "4              61.38              17.03           0.30            27   \n",
              "\n",
              "   Dengue Deaths  \n",
              "0              1  \n",
              "1              0  \n",
              "2              0  \n",
              "3              0  \n",
              "4              0  "
            ],
            "text/html": [
              "\n",
              "  <div id=\"df-5930148c-dfe3-4699-8b7c-39bbb0a7548c\">\n",
              "    <div class=\"colab-df-container\">\n",
              "      <div>\n",
              "<style scoped>\n",
              "    .dataframe tbody tr th:only-of-type {\n",
              "        vertical-align: middle;\n",
              "    }\n",
              "\n",
              "    .dataframe tbody tr th {\n",
              "        vertical-align: top;\n",
              "    }\n",
              "\n",
              "    .dataframe thead th {\n",
              "        text-align: right;\n",
              "    }\n",
              "</style>\n",
              "<table border=\"1\" class=\"dataframe\">\n",
              "  <thead>\n",
              "    <tr style=\"text-align: right;\">\n",
              "      <th></th>\n",
              "      <th>Year</th>\n",
              "      <th>Location</th>\n",
              "      <th>Latitude</th>\n",
              "      <th>Longitude</th>\n",
              "      <th>Month</th>\n",
              "      <th>Temperature</th>\n",
              "      <th>Min Temp</th>\n",
              "      <th>Max Temp</th>\n",
              "      <th>Relative humidity</th>\n",
              "      <th>Specific humidity</th>\n",
              "      <th>Precipitation</th>\n",
              "      <th>Dengue Cases</th>\n",
              "      <th>Dengue Deaths</th>\n",
              "    </tr>\n",
              "  </thead>\n",
              "  <tbody>\n",
              "    <tr>\n",
              "      <th>0</th>\n",
              "      <td>2016</td>\n",
              "      <td>Mumbai</td>\n",
              "      <td>19.0761</td>\n",
              "      <td>72.8774</td>\n",
              "      <td>1</td>\n",
              "      <td>23.50</td>\n",
              "      <td>13.05</td>\n",
              "      <td>37.51</td>\n",
              "      <td>45.50</td>\n",
              "      <td>7.57</td>\n",
              "      <td>0.01</td>\n",
              "      <td>21</td>\n",
              "      <td>1</td>\n",
              "    </tr>\n",
              "    <tr>\n",
              "      <th>1</th>\n",
              "      <td>2016</td>\n",
              "      <td>Mumbai</td>\n",
              "      <td>19.0761</td>\n",
              "      <td>72.8774</td>\n",
              "      <td>2</td>\n",
              "      <td>25.69</td>\n",
              "      <td>15.20</td>\n",
              "      <td>38.77</td>\n",
              "      <td>50.56</td>\n",
              "      <td>9.52</td>\n",
              "      <td>0.72</td>\n",
              "      <td>23</td>\n",
              "      <td>0</td>\n",
              "    </tr>\n",
              "    <tr>\n",
              "      <th>2</th>\n",
              "      <td>2016</td>\n",
              "      <td>Mumbai</td>\n",
              "      <td>19.0761</td>\n",
              "      <td>72.8774</td>\n",
              "      <td>3</td>\n",
              "      <td>29.19</td>\n",
              "      <td>19.51</td>\n",
              "      <td>42.69</td>\n",
              "      <td>47.94</td>\n",
              "      <td>10.80</td>\n",
              "      <td>0.10</td>\n",
              "      <td>22</td>\n",
              "      <td>0</td>\n",
              "    </tr>\n",
              "    <tr>\n",
              "      <th>3</th>\n",
              "      <td>2016</td>\n",
              "      <td>Mumbai</td>\n",
              "      <td>19.0761</td>\n",
              "      <td>72.8774</td>\n",
              "      <td>4</td>\n",
              "      <td>30.54</td>\n",
              "      <td>22.00</td>\n",
              "      <td>41.65</td>\n",
              "      <td>53.75</td>\n",
              "      <td>13.37</td>\n",
              "      <td>0.06</td>\n",
              "      <td>21</td>\n",
              "      <td>0</td>\n",
              "    </tr>\n",
              "    <tr>\n",
              "      <th>4</th>\n",
              "      <td>2016</td>\n",
              "      <td>Mumbai</td>\n",
              "      <td>19.0761</td>\n",
              "      <td>72.8774</td>\n",
              "      <td>5</td>\n",
              "      <td>31.47</td>\n",
              "      <td>24.36</td>\n",
              "      <td>40.37</td>\n",
              "      <td>61.38</td>\n",
              "      <td>17.03</td>\n",
              "      <td>0.30</td>\n",
              "      <td>27</td>\n",
              "      <td>0</td>\n",
              "    </tr>\n",
              "  </tbody>\n",
              "</table>\n",
              "</div>\n",
              "      <button class=\"colab-df-convert\" onclick=\"convertToInteractive('df-5930148c-dfe3-4699-8b7c-39bbb0a7548c')\"\n",
              "              title=\"Convert this dataframe to an interactive table.\"\n",
              "              style=\"display:none;\">\n",
              "        \n",
              "  <svg xmlns=\"http://www.w3.org/2000/svg\" height=\"24px\"viewBox=\"0 0 24 24\"\n",
              "       width=\"24px\">\n",
              "    <path d=\"M0 0h24v24H0V0z\" fill=\"none\"/>\n",
              "    <path d=\"M18.56 5.44l.94 2.06.94-2.06 2.06-.94-2.06-.94-.94-2.06-.94 2.06-2.06.94zm-11 1L8.5 8.5l.94-2.06 2.06-.94-2.06-.94L8.5 2.5l-.94 2.06-2.06.94zm10 10l.94 2.06.94-2.06 2.06-.94-2.06-.94-.94-2.06-.94 2.06-2.06.94z\"/><path d=\"M17.41 7.96l-1.37-1.37c-.4-.4-.92-.59-1.43-.59-.52 0-1.04.2-1.43.59L10.3 9.45l-7.72 7.72c-.78.78-.78 2.05 0 2.83L4 21.41c.39.39.9.59 1.41.59.51 0 1.02-.2 1.41-.59l7.78-7.78 2.81-2.81c.8-.78.8-2.07 0-2.86zM5.41 20L4 18.59l7.72-7.72 1.47 1.35L5.41 20z\"/>\n",
              "  </svg>\n",
              "      </button>\n",
              "      \n",
              "  <style>\n",
              "    .colab-df-container {\n",
              "      display:flex;\n",
              "      flex-wrap:wrap;\n",
              "      gap: 12px;\n",
              "    }\n",
              "\n",
              "    .colab-df-convert {\n",
              "      background-color: #E8F0FE;\n",
              "      border: none;\n",
              "      border-radius: 50%;\n",
              "      cursor: pointer;\n",
              "      display: none;\n",
              "      fill: #1967D2;\n",
              "      height: 32px;\n",
              "      padding: 0 0 0 0;\n",
              "      width: 32px;\n",
              "    }\n",
              "\n",
              "    .colab-df-convert:hover {\n",
              "      background-color: #E2EBFA;\n",
              "      box-shadow: 0px 1px 2px rgba(60, 64, 67, 0.3), 0px 1px 3px 1px rgba(60, 64, 67, 0.15);\n",
              "      fill: #174EA6;\n",
              "    }\n",
              "\n",
              "    [theme=dark] .colab-df-convert {\n",
              "      background-color: #3B4455;\n",
              "      fill: #D2E3FC;\n",
              "    }\n",
              "\n",
              "    [theme=dark] .colab-df-convert:hover {\n",
              "      background-color: #434B5C;\n",
              "      box-shadow: 0px 1px 3px 1px rgba(0, 0, 0, 0.15);\n",
              "      filter: drop-shadow(0px 1px 2px rgba(0, 0, 0, 0.3));\n",
              "      fill: #FFFFFF;\n",
              "    }\n",
              "  </style>\n",
              "\n",
              "      <script>\n",
              "        const buttonEl =\n",
              "          document.querySelector('#df-5930148c-dfe3-4699-8b7c-39bbb0a7548c button.colab-df-convert');\n",
              "        buttonEl.style.display =\n",
              "          google.colab.kernel.accessAllowed ? 'block' : 'none';\n",
              "\n",
              "        async function convertToInteractive(key) {\n",
              "          const element = document.querySelector('#df-5930148c-dfe3-4699-8b7c-39bbb0a7548c');\n",
              "          const dataTable =\n",
              "            await google.colab.kernel.invokeFunction('convertToInteractive',\n",
              "                                                     [key], {});\n",
              "          if (!dataTable) return;\n",
              "\n",
              "          const docLinkHtml = 'Like what you see? Visit the ' +\n",
              "            '<a target=\"_blank\" href=https://colab.research.google.com/notebooks/data_table.ipynb>data table notebook</a>'\n",
              "            + ' to learn more about interactive tables.';\n",
              "          element.innerHTML = '';\n",
              "          dataTable['output_type'] = 'display_data';\n",
              "          await google.colab.output.renderOutput(dataTable, element);\n",
              "          const docLink = document.createElement('div');\n",
              "          docLink.innerHTML = docLinkHtml;\n",
              "          element.appendChild(docLink);\n",
              "        }\n",
              "      </script>\n",
              "    </div>\n",
              "  </div>\n",
              "  "
            ]
          },
          "metadata": {},
          "execution_count": 13
        }
      ],
      "source": [
        "#Dataframe Creation\n",
        "import pandas as pd\n",
        "url = '/content/MumbaiMonthly - Copy.csv'\n",
        "dataset = pd.read_csv(url)\n",
        "dataset.head()"
      ]
    },
    {
      "cell_type": "code",
      "source": [
        "#Splitting into Train test\n",
        "dataset.drop(dataset.columns[12], axis=1, inplace=True)\n",
        "X = dataset.iloc[0 : 72 , 5 : 11]\n",
        "y = dataset.iloc[0 : 72, -1]"
      ],
      "metadata": {
        "id": "nu4M6uStWmq6"
      },
      "execution_count": null,
      "outputs": []
    },
    {
      "cell_type": "code",
      "source": [
        "from sklearn.svm import SVR\n",
        "\n",
        "model = SVR(kernel = \"poly\", degree = 4, coef0 = 1.0)\n",
        "model.fit(X, y)\n",
        "test = dataset.iloc[72 : , 5 : 11]\n",
        "prediction = model.predict(test)\n",
        "print(prediction)"
      ],
      "metadata": {
        "id": "VUrvfDEuiUqg",
        "colab": {
          "base_uri": "https://localhost:8080/"
        },
        "outputId": "0d8e9823-8bd4-42bd-ff50-97fa378632f4"
      },
      "execution_count": null,
      "outputs": [
        {
          "output_type": "stream",
          "name": "stdout",
          "text": [
            "[ 31.51868636  17.1291812    7.37624726   9.89486058  21.32043118\n",
            "  39.67305191  53.37263677 116.62205902 104.40275875  82.67731616\n",
            "  70.5209779   56.54852388]\n"
          ]
        }
      ]
    },
    {
      "cell_type": "code",
      "source": [
        "from sklearn.metrics import mean_squared_error\n",
        "\n",
        "test1 = dataset.iloc[72 : , -1]\n",
        "y_pred = model.predict(test)\n",
        "mean_squared_error(test1, y_pred)"
      ],
      "metadata": {
        "colab": {
          "base_uri": "https://localhost:8080/"
        },
        "id": "IsYjRdtkkDf4",
        "outputId": "491ef57c-6842-421b-c921-06aa31cc6024"
      },
      "execution_count": null,
      "outputs": [
        {
          "output_type": "execute_result",
          "data": {
            "text/plain": [
              "3163.3042830584195"
            ]
          },
          "metadata": {},
          "execution_count": 16
        }
      ]
    }
  ]
}